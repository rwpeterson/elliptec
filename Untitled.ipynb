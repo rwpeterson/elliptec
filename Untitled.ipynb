{
 "cells": [
  {
   "cell_type": "code",
   "execution_count": 1,
   "metadata": {},
   "outputs": [],
   "source": [
    "from elliptec import *\n",
    "import time"
   ]
  },
  {
   "cell_type": "code",
   "execution_count": 2,
   "metadata": {},
   "outputs": [],
   "source": [
    "edev='/dev/ttyUSB0'\n",
    "mlist=['0','1','2']\n",
    "t = Elliptec(edev, mlist)"
   ]
  },
  {
   "cell_type": "raw",
   "metadata": {},
   "source": []
  },
  {
   "cell_type": "code",
   "execution_count": 3,
   "metadata": {},
   "outputs": [
    {
     "name": "stdout",
     "output_type": "stream",
     "text": [
      "0I11001B3FFFFFFFF00BB008F\n",
      "0I21001B3FFFFFFFF00B8008E\n",
      "\n",
      "1I1100167FFFFFFFF00B2008E\n",
      "1I2100167FFFFFFFF00B2008C\n",
      "\n",
      "2I1100176FFFFFFFF00B20090\n",
      "2I2100176FFFFFFFF00B5008D\n",
      "\n"
     ]
    }
   ],
   "source": [
    "for m in mlist:\n",
    "    print(t.motorinfo(m))\n",
    "    time.sleep(1)"
   ]
  },
  {
   "cell_type": "code",
   "execution_count": 4,
   "metadata": {},
   "outputs": [
    {
     "name": "stdout",
     "output_type": "stream",
     "text": [
      "0PO000059D9\n",
      "\n",
      "1PO000059D8\n",
      "\n",
      "2PO000059D8\n",
      "\n",
      "0POFFFFFFFD\n",
      "\n",
      "1PO00000003\n",
      "\n",
      "2PO00000002\n",
      "\n"
     ]
    }
   ],
   "source": [
    "for m in mlist:\n",
    "    print(t.absm(m,360))\n",
    "    time.sleep(1)\n",
    "for m in mlist:\n",
    "    print(t.absm(m,0))\n",
    "    time.sleep(1)"
   ]
  },
  {
   "cell_type": "code",
   "execution_count": 14,
   "metadata": {},
   "outputs": [
    {
     "data": {
      "text/plain": [
       "'2GS00\\r\\n'"
      ]
     },
     "execution_count": 14,
     "metadata": {},
     "output_type": "execute_result"
    }
   ],
   "source": [
    "t.changeaddress('0','2')"
   ]
  },
  {
   "cell_type": "code",
   "execution_count": 10,
   "metadata": {},
   "outputs": [
    {
     "data": {
      "text/plain": [
       "'2GS00\\r\\n'"
      ]
     },
     "execution_count": 10,
     "metadata": {},
     "output_type": "execute_result"
    }
   ],
   "source": [
    "t.saveuserdata('2')"
   ]
  },
  {
   "cell_type": "code",
   "execution_count": null,
   "metadata": {},
   "outputs": [],
   "source": []
  }
 ],
 "metadata": {
  "kernelspec": {
   "display_name": "Python 3",
   "language": "python",
   "name": "python3"
  },
  "language_info": {
   "codemirror_mode": {
    "name": "ipython",
    "version": 3
   },
   "file_extension": ".py",
   "mimetype": "text/x-python",
   "name": "python",
   "nbconvert_exporter": "python",
   "pygments_lexer": "ipython3",
   "version": "3.8.6"
  }
 },
 "nbformat": 4,
 "nbformat_minor": 4
}
